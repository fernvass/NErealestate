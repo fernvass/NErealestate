{
 "cells": [
  {
   "cell_type": "markdown",
   "metadata": {},
   "source": [
    "# Housing Sales & Venues Data Analysis  of North East England\n"
   ]
  },
  {
   "cell_type": "markdown",
   "metadata": {},
   "source": [
    "## 1 . Introduction"
   ]
  },
  {
   "cell_type": "markdown",
   "metadata": {},
   "source": [
    "### 1.1 The North East "
   ]
  },
  {
   "cell_type": "markdown",
   "metadata": {},
   "source": [
    " North East England is one of nine official regions of England at the first level of NUTS. It is known as being the cheapest region in England based on average house prices taken January 2020 with a monthly price drop of 2.6% since December 2019. \n",
    " \n",
    " The most populous city in the North East is Newcastle which is the eighth most populous urban area in the UK. It hosts many major corporate headquarters and has strengths in learning, digital technology, retail, tourism and cultural centres. Investment property comprises a large proportion of terraced housing.Towards the city centre, there are many large, impressive Georgian structures however large family homes are available towards the outer areas and many new-build developments have emerged around the city. Newcastle beings in many students as it hoses Newcastle Univeristy and Northumbria University so there many many student lets especially towards the centre of the city. \n",
    "\n",
    "From the perspective of a property investor/landlord, we will want to be able to able to clearly visualise the average house sale prices in different areas so we can straight away narrow down the areas with houses we are looking to buy into. We are looking mainly to find the ideal place for landlords to purchase their next home and aiming display the average house price for each area as well as trying to cluster particular areas by the venue types around them to give a rough idea of the environment they are buying into. As we are looking at homes for long-term tenants, we will be looking at Newcastle, Durham, Sunderland, South Tyneside and North Tyneside. "
   ]
  },
  {
   "cell_type": "markdown",
   "metadata": {},
   "source": [
    "### 1.2 Data"
   ]
  },
  {
   "cell_type": "markdown",
   "metadata": {},
   "source": [
    " 1. We will be looking at the Lower Layer Super Output Areas (LSOA) of the UK and assign the median house prices to these areas. We can download this data last updated September 2019 from the [Office for National Statistics](https://www.ons.gov.uk/peoplepopulationandcommunity/housing/bulletins/housepricestatisticsforsmallareas/yearendingseptember2019) This will be cleaned so we gather data for Newcastle Upon Tyne, County Durham, Sunderland, South Tyneside and North Tyneside. \n",
    " \n",
    " 2. To be able to visuaulise this on a map, we will need the boundaries of each LSOA area which we can pull from this [UK-GeoJSON project](https://martinjc.github.io/UK-GeoJSON/). These are given as TopoJSON files so we will convert them to geojson using an [online converter](https://jeffpaine.github.io/geojson-topojson/) and merging them using an [online GeoJSON merger](https://tools.knowledgewalls.com/onlinejsonmerger). Now we can plot the choropleth data onto the map.\n",
    " \n",
    " 3. To be able to cluster the data, we will add markers onto the map at the centroid location of each area. We can gather the centroid coordinates from another csv file provided by the [Office for National Statistics](https://geoportal.statistics.gov.uk/datasets/lower-layer-super-output-areas-december-2011-population-weighted-centroids/data?geometry=-2.107%2C54.912%2C-1.352%2C55.050&orderBy=lsoa11nm&orderByAsc=false&page=10). Again we will clean this CSV file to give us our north east areas. \n",
    " \n",
    " 4. Using these centroid locations for each area, we can pull up the 10 most common venues around these areas use FourSquare API and we can use k-means clustering to cluster this data by venues.\n"
   ]
  }
 ],
 "metadata": {
  "kernelspec": {
   "display_name": "Python",
   "language": "python",
   "name": "conda-env-python-py"
  },
  "language_info": {
   "codemirror_mode": {
    "name": "ipython",
    "version": 3
   },
   "file_extension": ".py",
   "mimetype": "text/x-python",
   "name": "python",
   "nbconvert_exporter": "python",
   "pygments_lexer": "ipython3",
   "version": "3.6.10"
  }
 },
 "nbformat": 4,
 "nbformat_minor": 4
}
